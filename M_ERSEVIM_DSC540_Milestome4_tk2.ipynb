{
 "cells": [
  {
   "cell_type": "markdown",
   "metadata": {},
   "source": [
    "Michael Ersevim - Milestone 4 - DSC540"
   ]
  },
  {
   "cell_type": "code",
   "execution_count": 1,
   "metadata": {},
   "outputs": [
    {
     "name": "stdout",
     "output_type": "stream",
     "text": [
      "[31.91, 38.37, 66.13, 46.78]\n"
     ]
    }
   ],
   "source": [
    "import json #Needed to parse JSON data\n",
    "import requests #gets data from a URL using API\n",
    "import import_ipynb\n",
    "\n",
    "#STEP - 1: Prove can return API values from OpenWeather\n",
    "\n",
    "temp_lst = [] #create empty list\n",
    "input_zips = ['06033', '02860', '32084', '20740'] #sample list of zips to test\n",
    "\n",
    "for input_zip in input_zips: #iterate through test list of zips\n",
    "    url = f'http://api.openweathermap.org/data/2.5/weather?zip={input_zip},' \\\n",
    "          f'us&units=imperial&appid=4beb051f720dbfe14568322d1bff5b5c'\n",
    "    json_file = requests.get(url)   #uses GET and assigns to var\n",
    "    json_object = json.loads(json_file.text)  # JSON parser\n",
    "    temp_lst.append(json_object[\"main\"][\"temp\"]) # append temperatures to list\n",
    "\n",
    "#STEP 2 - Show list of zips can be iterated though and results stored in new list\n",
    "    \n",
    "print(temp_lst) #results look reasonable! (for Fahrenheit)\n"
   ]
  },
  {
   "cell_type": "code",
   "execution_count": 2,
   "metadata": {},
   "outputs": [
    {
     "data": {
      "text/plain": [
       "45.7975"
      ]
     },
     "execution_count": 2,
     "metadata": {},
     "output_type": "execute_result"
    }
   ],
   "source": [
    "#STEP 3 - Show average can be calculated of any number of results for eventual comparison to NOAA data further down\n",
    "\n",
    "sum(temp_lst)/len(temp_lst)"
   ]
  },
  {
   "cell_type": "code",
   "execution_count": 3,
   "metadata": {},
   "outputs": [],
   "source": [
    "# STEP -4: Bring in results from prior Milestone for NOAA temps\n",
    "%run M_ERSEVIM_DSC540_Milestone_3.ipynb"
   ]
  },
  {
   "cell_type": "code",
   "execution_count": 4,
   "metadata": {},
   "outputs": [
    {
     "data": {
      "text/html": [
       "<div>\n",
       "<style scoped>\n",
       "    .dataframe tbody tr th:only-of-type {\n",
       "        vertical-align: middle;\n",
       "    }\n",
       "\n",
       "    .dataframe tbody tr th {\n",
       "        vertical-align: top;\n",
       "    }\n",
       "\n",
       "    .dataframe thead th {\n",
       "        text-align: right;\n",
       "    }\n",
       "</style>\n",
       "<table border=\"1\" class=\"dataframe\">\n",
       "  <thead>\n",
       "    <tr style=\"text-align: right;\">\n",
       "      <th></th>\n",
       "      <th>Year_Mo</th>\n",
       "      <th>Temp</th>\n",
       "      <th>Index</th>\n",
       "      <th>Temp_Num</th>\n",
       "      <th>Celsius</th>\n",
       "      <th>Year</th>\n",
       "    </tr>\n",
       "  </thead>\n",
       "  <tbody>\n",
       "    <tr>\n",
       "      <th>0</th>\n",
       "      <td>189512</td>\n",
       "      <td>31.71°F</td>\n",
       "      <td>36</td>\n",
       "      <td>31.71</td>\n",
       "      <td>-0.161111</td>\n",
       "      <td>1895</td>\n",
       "    </tr>\n",
       "    <tr>\n",
       "      <th>1</th>\n",
       "      <td>189612</td>\n",
       "      <td>35.55°F</td>\n",
       "      <td>104</td>\n",
       "      <td>35.55</td>\n",
       "      <td>1.972222</td>\n",
       "      <td>1896</td>\n",
       "    </tr>\n",
       "    <tr>\n",
       "      <th>2</th>\n",
       "      <td>189712</td>\n",
       "      <td>30.76°F</td>\n",
       "      <td>24</td>\n",
       "      <td>30.76</td>\n",
       "      <td>-0.688889</td>\n",
       "      <td>1897</td>\n",
       "    </tr>\n",
       "    <tr>\n",
       "      <th>3</th>\n",
       "      <td>189812</td>\n",
       "      <td>28.67°F</td>\n",
       "      <td>9</td>\n",
       "      <td>28.67</td>\n",
       "      <td>-1.850000</td>\n",
       "      <td>1898</td>\n",
       "    </tr>\n",
       "    <tr>\n",
       "      <th>4</th>\n",
       "      <td>189912</td>\n",
       "      <td>31.62°F</td>\n",
       "      <td>35</td>\n",
       "      <td>31.62</td>\n",
       "      <td>-0.211111</td>\n",
       "      <td>1899</td>\n",
       "    </tr>\n",
       "  </tbody>\n",
       "</table>\n",
       "</div>"
      ],
      "text/plain": [
       "  Year_Mo     Temp  Index  Temp_Num   Celsius  Year\n",
       "0  189512  31.71°F     36     31.71 -0.161111  1895\n",
       "1  189612  35.55°F    104     35.55  1.972222  1896\n",
       "2  189712  30.76°F     24     30.76 -0.688889  1897\n",
       "3  189812  28.67°F      9     28.67 -1.850000  1898\n",
       "4  189912  31.62°F     35     31.62 -0.211111  1899"
      ]
     },
     "execution_count": 4,
     "metadata": {},
     "output_type": "execute_result"
    }
   ],
   "source": [
    "df.head()"
   ]
  },
  {
   "cell_type": "code",
   "execution_count": 7,
   "metadata": {},
   "outputs": [
    {
     "name": "stdout",
     "output_type": "stream",
     "text": [
      "32.99984251968504\n"
     ]
    }
   ],
   "source": [
    "# STEP 5: Calc mean of NOAA temp list\n",
    "noaa_mean = sum(df['Temp_Num'])/len(df)\n",
    "print(noaa_mean)"
   ]
  },
  {
   "cell_type": "code",
   "execution_count": null,
   "metadata": {},
   "outputs": [],
   "source": []
  }
 ],
 "metadata": {
  "kernelspec": {
   "display_name": "Python 3",
   "language": "python",
   "name": "python3"
  },
  "language_info": {
   "codemirror_mode": {
    "name": "ipython",
    "version": 3
   },
   "file_extension": ".py",
   "mimetype": "text/x-python",
   "name": "python",
   "nbconvert_exporter": "python",
   "pygments_lexer": "ipython3",
   "version": "3.7.4"
  }
 },
 "nbformat": 4,
 "nbformat_minor": 4
}

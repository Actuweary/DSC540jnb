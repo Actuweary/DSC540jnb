{
 "cells": [
  {
   "cell_type": "code",
   "execution_count": 1,
   "metadata": {},
   "outputs": [
    {
     "data": {
      "text/plain": [
       "'C:\\\\Users\\\\mersevim\\\\DS540 JNB'"
      ]
     },
     "execution_count": 1,
     "metadata": {},
     "output_type": "execute_result"
    }
   ],
   "source": [
    "pwd"
   ]
  },
  {
   "cell_type": "code",
   "execution_count": 2,
   "metadata": {},
   "outputs": [],
   "source": [
    "import pandas as pd #needed\n",
    "import html5lib"
   ]
  },
  {
   "cell_type": "code",
   "execution_count": 3,
   "metadata": {},
   "outputs": [],
   "source": [
    "df = pd.concat(pd.read_html('https://www.ncdc.noaa.gov/cag/national/time-series/110/tavg/1/12/1895-2021/data.html'))# read in data"
   ]
  },
  {
   "cell_type": "code",
   "execution_count": 4,
   "metadata": {},
   "outputs": [
    {
     "data": {
      "text/html": [
       "<div>\n",
       "<style scoped>\n",
       "    .dataframe tbody tr th:only-of-type {\n",
       "        vertical-align: middle;\n",
       "    }\n",
       "\n",
       "    .dataframe tbody tr th {\n",
       "        vertical-align: top;\n",
       "    }\n",
       "\n",
       "    .dataframe thead th {\n",
       "        text-align: right;\n",
       "    }\n",
       "</style>\n",
       "<table border=\"1\" class=\"dataframe\">\n",
       "  <thead>\n",
       "    <tr style=\"text-align: right;\">\n",
       "      <th></th>\n",
       "      <th>Date</th>\n",
       "      <th>Value</th>\n",
       "      <th>Rank</th>\n",
       "    </tr>\n",
       "  </thead>\n",
       "  <tbody>\n",
       "    <tr>\n",
       "      <th>0</th>\n",
       "      <td>189512</td>\n",
       "      <td>31.71°F</td>\n",
       "      <td>36</td>\n",
       "    </tr>\n",
       "    <tr>\n",
       "      <th>1</th>\n",
       "      <td>189612</td>\n",
       "      <td>35.55°F</td>\n",
       "      <td>104</td>\n",
       "    </tr>\n",
       "    <tr>\n",
       "      <th>2</th>\n",
       "      <td>189712</td>\n",
       "      <td>30.76°F</td>\n",
       "      <td>24</td>\n",
       "    </tr>\n",
       "    <tr>\n",
       "      <th>3</th>\n",
       "      <td>189812</td>\n",
       "      <td>28.67°F</td>\n",
       "      <td>9</td>\n",
       "    </tr>\n",
       "    <tr>\n",
       "      <th>4</th>\n",
       "      <td>189912</td>\n",
       "      <td>31.62°F</td>\n",
       "      <td>35</td>\n",
       "    </tr>\n",
       "  </tbody>\n",
       "</table>\n",
       "</div>"
      ],
      "text/plain": [
       "     Date    Value  Rank\n",
       "0  189512  31.71°F    36\n",
       "1  189612  35.55°F   104\n",
       "2  189712  30.76°F    24\n",
       "3  189812  28.67°F     9\n",
       "4  189912  31.62°F    35"
      ]
     },
     "execution_count": 4,
     "metadata": {},
     "output_type": "execute_result"
    }
   ],
   "source": [
    "df.head(5) #test"
   ]
  },
  {
   "cell_type": "code",
   "execution_count": 5,
   "metadata": {},
   "outputs": [],
   "source": [
    "df.rename(columns={'Date': 'Year_Mo', 'Value':'Temp', 'Rank':'Index'}, inplace = True) #rename the columns 1 of 5 xforms"
   ]
  },
  {
   "cell_type": "code",
   "execution_count": 10,
   "metadata": {},
   "outputs": [
    {
     "data": {
      "text/html": [
       "<div>\n",
       "<style scoped>\n",
       "    .dataframe tbody tr th:only-of-type {\n",
       "        vertical-align: middle;\n",
       "    }\n",
       "\n",
       "    .dataframe tbody tr th {\n",
       "        vertical-align: top;\n",
       "    }\n",
       "\n",
       "    .dataframe thead th {\n",
       "        text-align: right;\n",
       "    }\n",
       "</style>\n",
       "<table border=\"1\" class=\"dataframe\">\n",
       "  <thead>\n",
       "    <tr style=\"text-align: right;\">\n",
       "      <th></th>\n",
       "      <th>Year_Mo</th>\n",
       "      <th>Temp</th>\n",
       "      <th>Index</th>\n",
       "    </tr>\n",
       "  </thead>\n",
       "  <tbody>\n",
       "    <tr>\n",
       "      <th>0</th>\n",
       "      <td>189512</td>\n",
       "      <td>31.71°F</td>\n",
       "      <td>36</td>\n",
       "    </tr>\n",
       "    <tr>\n",
       "      <th>1</th>\n",
       "      <td>189612</td>\n",
       "      <td>35.55°F</td>\n",
       "      <td>104</td>\n",
       "    </tr>\n",
       "    <tr>\n",
       "      <th>2</th>\n",
       "      <td>189712</td>\n",
       "      <td>30.76°F</td>\n",
       "      <td>24</td>\n",
       "    </tr>\n",
       "    <tr>\n",
       "      <th>3</th>\n",
       "      <td>189812</td>\n",
       "      <td>28.67°F</td>\n",
       "      <td>9</td>\n",
       "    </tr>\n",
       "    <tr>\n",
       "      <th>4</th>\n",
       "      <td>189912</td>\n",
       "      <td>31.62°F</td>\n",
       "      <td>35</td>\n",
       "    </tr>\n",
       "  </tbody>\n",
       "</table>\n",
       "</div>"
      ],
      "text/plain": [
       "   Year_Mo     Temp  Index\n",
       "0   189512  31.71°F     36\n",
       "1   189612  35.55°F    104\n",
       "2   189712  30.76°F     24\n",
       "3   189812  28.67°F      9\n",
       "4   189912  31.62°F     35"
      ]
     },
     "execution_count": 10,
     "metadata": {},
     "output_type": "execute_result"
    }
   ],
   "source": [
    "df.head(5)"
   ]
  },
  {
   "cell_type": "code",
   "execution_count": 22,
   "metadata": {},
   "outputs": [],
   "source": [
    "#use function to change Temp str to int - 2 of 5 xforms\n",
    "\n",
    "df['Temp_Num'] = df['Temp'].str[:5]"
   ]
  },
  {
   "cell_type": "code",
   "execution_count": 23,
   "metadata": {},
   "outputs": [
    {
     "data": {
      "text/html": [
       "<div>\n",
       "<style scoped>\n",
       "    .dataframe tbody tr th:only-of-type {\n",
       "        vertical-align: middle;\n",
       "    }\n",
       "\n",
       "    .dataframe tbody tr th {\n",
       "        vertical-align: top;\n",
       "    }\n",
       "\n",
       "    .dataframe thead th {\n",
       "        text-align: right;\n",
       "    }\n",
       "</style>\n",
       "<table border=\"1\" class=\"dataframe\">\n",
       "  <thead>\n",
       "    <tr style=\"text-align: right;\">\n",
       "      <th></th>\n",
       "      <th>Year_Mo</th>\n",
       "      <th>Temp</th>\n",
       "      <th>Index</th>\n",
       "      <th>Temp_Num</th>\n",
       "    </tr>\n",
       "  </thead>\n",
       "  <tbody>\n",
       "    <tr>\n",
       "      <th>0</th>\n",
       "      <td>189512</td>\n",
       "      <td>31.71°F</td>\n",
       "      <td>36</td>\n",
       "      <td>31.71</td>\n",
       "    </tr>\n",
       "    <tr>\n",
       "      <th>1</th>\n",
       "      <td>189612</td>\n",
       "      <td>35.55°F</td>\n",
       "      <td>104</td>\n",
       "      <td>35.55</td>\n",
       "    </tr>\n",
       "    <tr>\n",
       "      <th>2</th>\n",
       "      <td>189712</td>\n",
       "      <td>30.76°F</td>\n",
       "      <td>24</td>\n",
       "      <td>30.76</td>\n",
       "    </tr>\n",
       "    <tr>\n",
       "      <th>3</th>\n",
       "      <td>189812</td>\n",
       "      <td>28.67°F</td>\n",
       "      <td>9</td>\n",
       "      <td>28.67</td>\n",
       "    </tr>\n",
       "    <tr>\n",
       "      <th>4</th>\n",
       "      <td>189912</td>\n",
       "      <td>31.62°F</td>\n",
       "      <td>35</td>\n",
       "      <td>31.62</td>\n",
       "    </tr>\n",
       "  </tbody>\n",
       "</table>\n",
       "</div>"
      ],
      "text/plain": [
       "   Year_Mo     Temp  Index Temp_Num\n",
       "0   189512  31.71°F     36    31.71\n",
       "1   189612  35.55°F    104    35.55\n",
       "2   189712  30.76°F     24    30.76\n",
       "3   189812  28.67°F      9    28.67\n",
       "4   189912  31.62°F     35    31.62"
      ]
     },
     "execution_count": 23,
     "metadata": {},
     "output_type": "execute_result"
    }
   ],
   "source": [
    "df.head(5)"
   ]
  },
  {
   "cell_type": "code",
   "execution_count": 31,
   "metadata": {},
   "outputs": [],
   "source": [
    "df['Temp_Num'] = pd.to_numeric(df['Temp_Num'],errors='coerce') #use function to change Temp str to numeric 3 of 5 xforms\n",
    "df['Celsius'] = (df['Temp_Num']-32) *5/9 # 4 of 5 xforms"
   ]
  },
  {
   "cell_type": "code",
   "execution_count": 32,
   "metadata": {},
   "outputs": [
    {
     "data": {
      "text/html": [
       "<div>\n",
       "<style scoped>\n",
       "    .dataframe tbody tr th:only-of-type {\n",
       "        vertical-align: middle;\n",
       "    }\n",
       "\n",
       "    .dataframe tbody tr th {\n",
       "        vertical-align: top;\n",
       "    }\n",
       "\n",
       "    .dataframe thead th {\n",
       "        text-align: right;\n",
       "    }\n",
       "</style>\n",
       "<table border=\"1\" class=\"dataframe\">\n",
       "  <thead>\n",
       "    <tr style=\"text-align: right;\">\n",
       "      <th></th>\n",
       "      <th>Year_Mo</th>\n",
       "      <th>Temp</th>\n",
       "      <th>Index</th>\n",
       "      <th>Temp_Num</th>\n",
       "      <th>Celsius</th>\n",
       "    </tr>\n",
       "  </thead>\n",
       "  <tbody>\n",
       "    <tr>\n",
       "      <th>0</th>\n",
       "      <td>189512</td>\n",
       "      <td>31.71°F</td>\n",
       "      <td>36</td>\n",
       "      <td>31.71</td>\n",
       "      <td>-0.161111</td>\n",
       "    </tr>\n",
       "    <tr>\n",
       "      <th>1</th>\n",
       "      <td>189612</td>\n",
       "      <td>35.55°F</td>\n",
       "      <td>104</td>\n",
       "      <td>35.55</td>\n",
       "      <td>1.972222</td>\n",
       "    </tr>\n",
       "    <tr>\n",
       "      <th>2</th>\n",
       "      <td>189712</td>\n",
       "      <td>30.76°F</td>\n",
       "      <td>24</td>\n",
       "      <td>30.76</td>\n",
       "      <td>-0.688889</td>\n",
       "    </tr>\n",
       "    <tr>\n",
       "      <th>3</th>\n",
       "      <td>189812</td>\n",
       "      <td>28.67°F</td>\n",
       "      <td>9</td>\n",
       "      <td>28.67</td>\n",
       "      <td>-1.850000</td>\n",
       "    </tr>\n",
       "    <tr>\n",
       "      <th>4</th>\n",
       "      <td>189912</td>\n",
       "      <td>31.62°F</td>\n",
       "      <td>35</td>\n",
       "      <td>31.62</td>\n",
       "      <td>-0.211111</td>\n",
       "    </tr>\n",
       "  </tbody>\n",
       "</table>\n",
       "</div>"
      ],
      "text/plain": [
       "   Year_Mo     Temp  Index  Temp_Num   Celsius\n",
       "0   189512  31.71°F     36     31.71 -0.161111\n",
       "1   189612  35.55°F    104     35.55  1.972222\n",
       "2   189712  30.76°F     24     30.76 -0.688889\n",
       "3   189812  28.67°F      9     28.67 -1.850000\n",
       "4   189912  31.62°F     35     31.62 -0.211111"
      ]
     },
     "execution_count": 32,
     "metadata": {},
     "output_type": "execute_result"
    }
   ],
   "source": [
    "df.head(5)"
   ]
  },
  {
   "cell_type": "code",
   "execution_count": 35,
   "metadata": {},
   "outputs": [
    {
     "data": {
      "text/html": [
       "<div>\n",
       "<style scoped>\n",
       "    .dataframe tbody tr th:only-of-type {\n",
       "        vertical-align: middle;\n",
       "    }\n",
       "\n",
       "    .dataframe tbody tr th {\n",
       "        vertical-align: top;\n",
       "    }\n",
       "\n",
       "    .dataframe thead th {\n",
       "        text-align: right;\n",
       "    }\n",
       "</style>\n",
       "<table border=\"1\" class=\"dataframe\">\n",
       "  <thead>\n",
       "    <tr style=\"text-align: right;\">\n",
       "      <th></th>\n",
       "      <th>Year_Mo</th>\n",
       "      <th>Temp</th>\n",
       "      <th>Index</th>\n",
       "      <th>Temp_Num</th>\n",
       "      <th>Celsius</th>\n",
       "      <th>Year</th>\n",
       "    </tr>\n",
       "  </thead>\n",
       "  <tbody>\n",
       "    <tr>\n",
       "      <th>0</th>\n",
       "      <td>189512</td>\n",
       "      <td>31.71°F</td>\n",
       "      <td>36</td>\n",
       "      <td>31.71</td>\n",
       "      <td>-0.161111</td>\n",
       "      <td>1895</td>\n",
       "    </tr>\n",
       "    <tr>\n",
       "      <th>1</th>\n",
       "      <td>189612</td>\n",
       "      <td>35.55°F</td>\n",
       "      <td>104</td>\n",
       "      <td>35.55</td>\n",
       "      <td>1.972222</td>\n",
       "      <td>1896</td>\n",
       "    </tr>\n",
       "    <tr>\n",
       "      <th>2</th>\n",
       "      <td>189712</td>\n",
       "      <td>30.76°F</td>\n",
       "      <td>24</td>\n",
       "      <td>30.76</td>\n",
       "      <td>-0.688889</td>\n",
       "      <td>1897</td>\n",
       "    </tr>\n",
       "    <tr>\n",
       "      <th>3</th>\n",
       "      <td>189812</td>\n",
       "      <td>28.67°F</td>\n",
       "      <td>9</td>\n",
       "      <td>28.67</td>\n",
       "      <td>-1.850000</td>\n",
       "      <td>1898</td>\n",
       "    </tr>\n",
       "    <tr>\n",
       "      <th>4</th>\n",
       "      <td>189912</td>\n",
       "      <td>31.62°F</td>\n",
       "      <td>35</td>\n",
       "      <td>31.62</td>\n",
       "      <td>-0.211111</td>\n",
       "      <td>1899</td>\n",
       "    </tr>\n",
       "  </tbody>\n",
       "</table>\n",
       "</div>"
      ],
      "text/plain": [
       "  Year_Mo     Temp  Index  Temp_Num   Celsius  Year\n",
       "0  189512  31.71°F     36     31.71 -0.161111  1895\n",
       "1  189612  35.55°F    104     35.55  1.972222  1896\n",
       "2  189712  30.76°F     24     30.76 -0.688889  1897\n",
       "3  189812  28.67°F      9     28.67 -1.850000  1898\n",
       "4  189912  31.62°F     35     31.62 -0.211111  1899"
      ]
     },
     "execution_count": 35,
     "metadata": {},
     "output_type": "execute_result"
    }
   ],
   "source": [
    "df['Year_Mo'] = df['Year_Mo'].astype(str) #make yearmo a sring\n",
    "df['Year'] = df['Year_Mo'].str[:4] #split the string\n",
    "df['Year'] = pd.to_numeric(df['Year'],errors='coerce') # make the year field a numeric - 5 of 5 xforms\n",
    "df.head(5)"
   ]
  },
  {
   "cell_type": "code",
   "execution_count": null,
   "metadata": {},
   "outputs": [],
   "source": []
  }
 ],
 "metadata": {
  "kernelspec": {
   "display_name": "Python 3",
   "language": "python",
   "name": "python3"
  },
  "language_info": {
   "codemirror_mode": {
    "name": "ipython",
    "version": 3
   },
   "file_extension": ".py",
   "mimetype": "text/x-python",
   "name": "python",
   "nbconvert_exporter": "python",
   "pygments_lexer": "ipython3",
   "version": "3.7.4"
  }
 },
 "nbformat": 4,
 "nbformat_minor": 4
}
